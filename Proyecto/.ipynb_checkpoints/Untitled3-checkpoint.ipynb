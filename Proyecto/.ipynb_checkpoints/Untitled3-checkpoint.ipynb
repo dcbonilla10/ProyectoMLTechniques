{
 "cells": [
  {
   "cell_type": "code",
   "execution_count": 9,
   "id": "ceb939ab-beb1-461c-88e7-99ca75bd6aad",
   "metadata": {},
   "outputs": [],
   "source": [
    "import pandas as pd\n",
    "import csv as csv2"
   ]
  },
  {
   "cell_type": "code",
   "execution_count": 2,
   "id": "2108429c-1087-4599-9411-7fbcdd3f5988",
   "metadata": {},
   "outputs": [],
   "source": [
    "csv = pd.read_csv('DSIT_DB_helpdesk_clean.csv', index_col=0)"
   ]
  },
  {
   "cell_type": "code",
   "execution_count": 3,
   "id": "5b3bca2b-a1b7-4d7e-b0cf-f5eadb9351f1",
   "metadata": {},
   "outputs": [
    {
     "data": {
      "text/html": [
       "<div>\n",
       "<style scoped>\n",
       "    .dataframe tbody tr th:only-of-type {\n",
       "        vertical-align: middle;\n",
       "    }\n",
       "\n",
       "    .dataframe tbody tr th {\n",
       "        vertical-align: top;\n",
       "    }\n",
       "\n",
       "    .dataframe thead th {\n",
       "        text-align: right;\n",
       "    }\n",
       "</style>\n",
       "<table border=\"1\" class=\"dataframe\">\n",
       "  <thead>\n",
       "    <tr style=\"text-align: right;\">\n",
       "      <th></th>\n",
       "      <th>Asunto</th>\n",
       "      <th>Servicio</th>\n",
       "      <th>Sub Servicio</th>\n",
       "      <th>Categoria</th>\n",
       "      <th>Empleado Académico</th>\n",
       "      <th>Empleado Administrativo</th>\n",
       "      <th>Estudiante</th>\n",
       "      <th>Egresado</th>\n",
       "      <th>Descripción</th>\n",
       "      <th>Tipo</th>\n",
       "    </tr>\n",
       "  </thead>\n",
       "  <tbody>\n",
       "    <tr>\n",
       "      <th>0</th>\n",
       "      <td>Ayuda con cuenta institucional</td>\n",
       "      <td>Correo y Cuenta Uniandes</td>\n",
       "      <td>Inconvenientes Cuenta Uniandes</td>\n",
       "      <td>Problema al Ingresar</td>\n",
       "      <td>0</td>\n",
       "      <td>1</td>\n",
       "      <td>1</td>\n",
       "      <td>1</td>\n",
       "      <td>Buenos días, Solicito su colaboración con la c...</td>\n",
       "      <td>Incidente</td>\n",
       "    </tr>\n",
       "    <tr>\n",
       "      <th>1</th>\n",
       "      <td>No deja ingreso</td>\n",
       "      <td>Soluciones para Automatización de procesos</td>\n",
       "      <td>Gestión de Errores técnicos en Procesos Automa...</td>\n",
       "      <td>Errores de Login</td>\n",
       "      <td>0</td>\n",
       "      <td>0</td>\n",
       "      <td>1</td>\n",
       "      <td>0</td>\n",
       "      <td>-----Mensaje original----- De: Juan Esteban Ca...</td>\n",
       "      <td>Incidente</td>\n",
       "    </tr>\n",
       "    <tr>\n",
       "      <th>3</th>\n",
       "      <td>Banner</td>\n",
       "      <td>Servicios Académico Administrativo</td>\n",
       "      <td>Incidentes en Servicios Especializados</td>\n",
       "      <td>Problemas Banner</td>\n",
       "      <td>0</td>\n",
       "      <td>0</td>\n",
       "      <td>1</td>\n",
       "      <td>0</td>\n",
       "      <td>Buenas tardes, No está funcionando banner para...</td>\n",
       "      <td>Incidente</td>\n",
       "    </tr>\n",
       "    <tr>\n",
       "      <th>4</th>\n",
       "      <td>Inconveniente con la cuenta de Zoom</td>\n",
       "      <td>Comunicación y Colaboración</td>\n",
       "      <td>Reuniones virtuales (Teams, Webex, Zoom, telep...</td>\n",
       "      <td>Problema de acceso</td>\n",
       "      <td>0</td>\n",
       "      <td>0</td>\n",
       "      <td>1</td>\n",
       "      <td>0</td>\n",
       "      <td>Buenas tardes, Actualmente, intenté usar mi cu...</td>\n",
       "      <td>Incidente</td>\n",
       "    </tr>\n",
       "    <tr>\n",
       "      <th>5</th>\n",
       "      <td>Inscripción</td>\n",
       "      <td>Plataformas de enseñanza virtual</td>\n",
       "      <td>Problemas/Error de Acceso</td>\n",
       "      <td>Problemas al ingresar</td>\n",
       "      <td>0</td>\n",
       "      <td>0</td>\n",
       "      <td>1</td>\n",
       "      <td>0</td>\n",
       "      <td>Cordial saludo, Estudiante reporta que no esta...</td>\n",
       "      <td>Incidente</td>\n",
       "    </tr>\n",
       "  </tbody>\n",
       "</table>\n",
       "</div>"
      ],
      "text/plain": [
       "                                Asunto  \\\n",
       "0       Ayuda con cuenta institucional   \n",
       "1                      No deja ingreso   \n",
       "3                               Banner   \n",
       "4  Inconveniente con la cuenta de Zoom   \n",
       "5                          Inscripción   \n",
       "\n",
       "                                     Servicio  \\\n",
       "0                    Correo y Cuenta Uniandes   \n",
       "1  Soluciones para Automatización de procesos   \n",
       "3          Servicios Académico Administrativo   \n",
       "4                 Comunicación y Colaboración   \n",
       "5            Plataformas de enseñanza virtual   \n",
       "\n",
       "                                        Sub Servicio              Categoria  \\\n",
       "0                     Inconvenientes Cuenta Uniandes   Problema al Ingresar   \n",
       "1  Gestión de Errores técnicos en Procesos Automa...       Errores de Login   \n",
       "3             Incidentes en Servicios Especializados       Problemas Banner   \n",
       "4  Reuniones virtuales (Teams, Webex, Zoom, telep...     Problema de acceso   \n",
       "5                          Problemas/Error de Acceso  Problemas al ingresar   \n",
       "\n",
       "   Empleado Académico  Empleado Administrativo  Estudiante  Egresado  \\\n",
       "0                   0                        1           1         1   \n",
       "1                   0                        0           1         0   \n",
       "3                   0                        0           1         0   \n",
       "4                   0                        0           1         0   \n",
       "5                   0                        0           1         0   \n",
       "\n",
       "                                        Descripción        Tipo  \n",
       "0  Buenos días, Solicito su colaboración con la c...  Incidente  \n",
       "1  -----Mensaje original----- De: Juan Esteban Ca...  Incidente  \n",
       "3  Buenas tardes, No está funcionando banner para...  Incidente  \n",
       "4  Buenas tardes, Actualmente, intenté usar mi cu...  Incidente  \n",
       "5  Cordial saludo, Estudiante reporta que no esta...  Incidente  "
      ]
     },
     "execution_count": 3,
     "metadata": {},
     "output_type": "execute_result"
    }
   ],
   "source": [
    "csv.head()"
   ]
  },
  {
   "cell_type": "code",
   "execution_count": 11,
   "id": "c4c649f4-25fd-4436-9878-4d277af77381",
   "metadata": {},
   "outputs": [],
   "source": [
    "csv['Servicio'] = csv['Servicio'].str.replace(' ','_')."
   ]
  },
  {
   "cell_type": "code",
   "execution_count": 13,
   "id": "58c753b6-8de7-47a8-ae6d-2bb605c83ee3",
   "metadata": {},
   "outputs": [],
   "source": [
    "csv['Servicio'] = \"__label__\" + csv['Servicio']"
   ]
  },
  {
   "cell_type": "code",
   "execution_count": 22,
   "id": "592384c7-7fa5-43f3-b078-427395c49c06",
   "metadata": {},
   "outputs": [],
   "source": [
    "lines = csv['Servicio'] + ' ' + csv['Asunto'] + '  '+ csv['Descripción ']"
   ]
  },
  {
   "cell_type": "code",
   "execution_count": 23,
   "id": "e8d3aa02-fbd9-4375-a019-ffa94c3ebced",
   "metadata": {},
   "outputs": [
    {
     "data": {
      "text/plain": [
       "0    __label__Correo_y_Cuenta_Uniandes Ayuda con cu...\n",
       "1    __label__Soluciones_para_Automatización_de_pro...\n",
       "3    __label__Servicios_Académico_Administrativo Ba...\n",
       "4    __label__Comunicación_y_Colaboración Inconveni...\n",
       "5    __label__Plataformas_de_enseñanza_virtual Insc...\n",
       "dtype: object"
      ]
     },
     "execution_count": 23,
     "metadata": {},
     "output_type": "execute_result"
    }
   ],
   "source": [
    "lines.head()"
   ]
  },
  {
   "cell_type": "code",
   "execution_count": 26,
   "id": "8d861efd-3fa9-4ace-ae06-3bd532877495",
   "metadata": {},
   "outputs": [],
   "source": [
    "lines.to_csv('lineas.txt',header=None, index=None, sep=' ', quoting=csv.QUOTE_NONE)"
   ]
  },
  {
   "cell_type": "code",
   "execution_count": 5,
   "id": "0750c77a-0178-487c-b208-d42d4959e09c",
   "metadata": {},
   "outputs": [],
   "source": [
    "csv['Tipo'] = csv['Tipo'].str.replace(' ','_')"
   ]
  },
  {
   "cell_type": "code",
   "execution_count": 6,
   "id": "73952db4-2eed-4891-aadc-8fd1dec8a7f4",
   "metadata": {},
   "outputs": [],
   "source": [
    "csv['Tipo'] = \"__label__\" + csv['Tipo']"
   ]
  },
  {
   "cell_type": "code",
   "execution_count": 7,
   "id": "379a231d-0e9e-4206-96bd-8001e4f7d925",
   "metadata": {},
   "outputs": [],
   "source": [
    "lines = csv['Tipo'] + ' ' + csv['Asunto'] + '  '+ csv['Descripción ']"
   ]
  },
  {
   "cell_type": "code",
   "execution_count": 11,
   "id": "b7eb4855-4f8e-448e-b109-40fe279ac2be",
   "metadata": {},
   "outputs": [],
   "source": [
    "lines.to_csv('lineas_tipo.txt',header=None, index=None, sep=' ', escapechar=\"\\\\\", quoting=csv2.QUOTE_NONE)"
   ]
  },
  {
   "cell_type": "code",
   "execution_count": null,
   "id": "c1b7afd3-2384-4769-919b-71e504423fb6",
   "metadata": {},
   "outputs": [],
   "source": []
  }
 ],
 "metadata": {
  "kernelspec": {
   "display_name": "Python 3",
   "language": "python",
   "name": "python3"
  },
  "language_info": {
   "codemirror_mode": {
    "name": "ipython",
    "version": 3
   },
   "file_extension": ".py",
   "mimetype": "text/x-python",
   "name": "python",
   "nbconvert_exporter": "python",
   "pygments_lexer": "ipython3",
   "version": "3.8.8"
  }
 },
 "nbformat": 4,
 "nbformat_minor": 5
}
